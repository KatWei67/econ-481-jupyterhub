{
 "cells": [
  {
   "cell_type": "markdown",
   "metadata": {},
   "source": [
    "# Lecture 1\n",
    "___"
   ]
  },
  {
   "cell_type": "markdown",
   "metadata": {},
   "source": [
    "## Exercise: Typing\n",
    "\n",
    "Use list comprehension to return the types of the list\n",
    "\n",
    "```{python}\n",
    "types_list = ['a', 1, 2., False, None]\n",
    "```"
   ]
  },
  {
   "cell_type": "code",
   "execution_count": null,
   "metadata": {},
   "outputs": [],
   "source": [
    "types_list = ['a', 1, 2., False, None]"
   ]
  },
  {
   "cell_type": "markdown",
   "metadata": {},
   "source": [
    "## Exercise: Factorial\n",
    "\n",
    "Write a loop that takes a natural number $n>0$ and returns $n!$, where \n",
    "\n",
    "$$\n",
    "n! = \\prod_{i=1}^ni\n",
    "$$\n",
    "\n",
    "If you have time, write a loop that computes the binomial coefficient:\n",
    "\n",
    "$$\n",
    "\\binom{n}{k} = \\frac{n!}{k!(n-k)!}\n",
    "$$"
   ]
  },
  {
   "cell_type": "markdown",
   "metadata": {},
   "source": [
    "## Exercise: `datetime`\n",
    "\n",
    "Create a list of the date of every day we have class this quarter. You may ignore holidays.\n",
    "\n",
    "- Hints:\n",
    "    - The last day of classes is May 31, 2024\n",
    "    - You can create a `timedelta` object using `timedelta(days=...)`"
   ]
  },
  {
   "cell_type": "code",
   "execution_count": null,
   "metadata": {},
   "outputs": [],
   "source": [
    "from datetime import datetime, date, time, timedelta"
   ]
  }
 ],
 "metadata": {
  "kernelspec": {
   "display_name": "Python 3 (ipykernel)",
   "language": "python",
   "name": "python3"
  },
  "language_info": {
   "codemirror_mode": {
    "name": "ipython",
    "version": 3
   },
   "file_extension": ".py",
   "mimetype": "text/x-python",
   "name": "python",
   "nbconvert_exporter": "python",
   "pygments_lexer": "ipython3",
   "version": "3.10.13"
  }
 },
 "nbformat": 4,
 "nbformat_minor": 4
}
